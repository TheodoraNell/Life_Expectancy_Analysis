{
 "cells": [
  {
   "cell_type": "code",
   "execution_count": 1,
   "id": "65db0f79",
   "metadata": {},
   "outputs": [],
   "source": [
    "import pandas as pd\n",
    "# Load the the dataset into the notebook\n",
    "file_path = \"C:/Users/theod/Bootcamp/FINAL_PROJECT/Module_20_Project/Database/Preliminary_Database/life_expect.csv\"\n",
    "df = pd.read_csv (file_path)\n",
    "# Convert CSV to JSON \n",
    "df.to_json (r'C:/Users/theod/Bootcamp/FINAL_PROJECT/Module_20_Project/Dashboard/Life_expect.json')"
   ]
  },
  {
   "cell_type": "code",
   "execution_count": null,
   "id": "93a66f65",
   "metadata": {},
   "outputs": [],
   "source": []
  }
 ],
 "metadata": {
  "kernelspec": {
   "display_name": "mlenv",
   "language": "python",
   "name": "mlenv"
  },
  "language_info": {
   "codemirror_mode": {
    "name": "ipython",
    "version": 3
   },
   "file_extension": ".py",
   "mimetype": "text/x-python",
   "name": "python",
   "nbconvert_exporter": "python",
   "pygments_lexer": "ipython3",
   "version": "3.7.13"
  }
 },
 "nbformat": 4,
 "nbformat_minor": 5
}
